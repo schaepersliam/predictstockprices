{
 "cells": [
  {
   "cell_type": "markdown",
   "metadata": {},
   "source": [
    "# Predict the stock price from the Apple stock\n",
    "In this Notebook we want to predict the future opening price of the Apple NSDAQ stock.\n",
    "\n",
    "First let's import our neccessaray libarys:"
   ]
  },
  {
   "cell_type": "code",
   "execution_count": 209,
   "metadata": {},
   "outputs": [],
   "source": [
    "import numpy as np\n",
    "import pandas as pd\n",
    "from sklearn import model_selection\n",
    "from sklearn import linear_model\n",
    "import math"
   ]
  },
  {
   "cell_type": "markdown",
   "metadata": {},
   "source": [
    "### Loading the dataset\n",
    "Now let's load the Apple stock dataset."
   ]
  },
  {
   "cell_type": "code",
   "execution_count": 210,
   "metadata": {},
   "outputs": [],
   "source": [
    "names = ['Date','Open','High','Low','Close','Adj Close','Volume']\n",
    "stock_values = pd.read_csv('AAPL.csv',names=names,engine='python')\n",
    "stock_values.drop(0, inplace=True)"
   ]
  },
  {
   "cell_type": "markdown",
   "metadata": {},
   "source": [
    "Now let's just create a DataFrame to convert the objects\n",
    "to strings and floats:"
   ]
  },
  {
   "cell_type": "code",
   "execution_count": 211,
   "metadata": {
    "scrolled": false
   },
   "outputs": [
    {
     "data": {
      "text/html": [
       "<div>\n",
       "<style scoped>\n",
       "    .dataframe tbody tr th:only-of-type {\n",
       "        vertical-align: middle;\n",
       "    }\n",
       "\n",
       "    .dataframe tbody tr th {\n",
       "        vertical-align: top;\n",
       "    }\n",
       "\n",
       "    .dataframe thead th {\n",
       "        text-align: right;\n",
       "    }\n",
       "</style>\n",
       "<table border=\"1\" class=\"dataframe\">\n",
       "  <thead>\n",
       "    <tr style=\"text-align: right;\">\n",
       "      <th></th>\n",
       "      <th>1Date</th>\n",
       "      <th>2Open</th>\n",
       "      <th>3High</th>\n",
       "      <th>4Low</th>\n",
       "      <th>5Close</th>\n",
       "    </tr>\n",
       "  </thead>\n",
       "  <tbody>\n",
       "    <tr>\n",
       "      <th>1</th>\n",
       "      <td>2017-04-19</td>\n",
       "      <td>141.880005</td>\n",
       "      <td>142.000000</td>\n",
       "      <td>140.449997</td>\n",
       "      <td>140.679993</td>\n",
       "    </tr>\n",
       "    <tr>\n",
       "      <th>2</th>\n",
       "      <td>2017-04-20</td>\n",
       "      <td>141.220001</td>\n",
       "      <td>142.919998</td>\n",
       "      <td>141.160004</td>\n",
       "      <td>142.440002</td>\n",
       "    </tr>\n",
       "    <tr>\n",
       "      <th>3</th>\n",
       "      <td>2017-04-21</td>\n",
       "      <td>142.440002</td>\n",
       "      <td>142.679993</td>\n",
       "      <td>141.850006</td>\n",
       "      <td>142.270004</td>\n",
       "    </tr>\n",
       "    <tr>\n",
       "      <th>4</th>\n",
       "      <td>2017-04-24</td>\n",
       "      <td>143.500000</td>\n",
       "      <td>143.949997</td>\n",
       "      <td>143.179993</td>\n",
       "      <td>143.639999</td>\n",
       "    </tr>\n",
       "    <tr>\n",
       "      <th>5</th>\n",
       "      <td>2017-04-25</td>\n",
       "      <td>143.910004</td>\n",
       "      <td>144.899994</td>\n",
       "      <td>143.869995</td>\n",
       "      <td>144.529999</td>\n",
       "    </tr>\n",
       "  </tbody>\n",
       "</table>\n",
       "</div>"
      ],
      "text/plain": [
       "        1Date       2Open       3High        4Low      5Close\n",
       "1  2017-04-19  141.880005  142.000000  140.449997  140.679993\n",
       "2  2017-04-20  141.220001  142.919998  141.160004  142.440002\n",
       "3  2017-04-21  142.440002  142.679993  141.850006  142.270004\n",
       "4  2017-04-24  143.500000  143.949997  143.179993  143.639999\n",
       "5  2017-04-25  143.910004  144.899994  143.869995  144.529999"
      ]
     },
     "execution_count": 211,
     "metadata": {},
     "output_type": "execute_result"
    }
   ],
   "source": [
    "stock = pd.DataFrame({'1Date': stock_values['Date'].astype('string'),\n",
    "                      '2Open': stock_values['Open'].astype('float'),\n",
    "                      '3High': stock_values['High'].astype('float'),\n",
    "                      '4Low': stock_values['Low'].astype('float'),\n",
    "                      '5Close': stock_values['Close'].astype('float')})\n",
    "stock.head()"
   ]
  },
  {
   "cell_type": "markdown",
   "metadata": {},
   "source": [
    "### Splitting the dataset into training and testing data\n",
    "With the sklearn model selection we will now split the data\n",
    "into training and testing data:"
   ]
  },
  {
   "cell_type": "code",
   "execution_count": 212,
   "metadata": {},
   "outputs": [
    {
     "data": {
      "text/html": [
       "<div>\n",
       "<style scoped>\n",
       "    .dataframe tbody tr th:only-of-type {\n",
       "        vertical-align: middle;\n",
       "    }\n",
       "\n",
       "    .dataframe tbody tr th {\n",
       "        vertical-align: top;\n",
       "    }\n",
       "\n",
       "    .dataframe thead th {\n",
       "        text-align: right;\n",
       "    }\n",
       "</style>\n",
       "<table border=\"1\" class=\"dataframe\">\n",
       "  <thead>\n",
       "    <tr style=\"text-align: right;\">\n",
       "      <th></th>\n",
       "      <th>1Date</th>\n",
       "      <th>2Open</th>\n",
       "      <th>3High</th>\n",
       "      <th>4Low</th>\n",
       "      <th>5Close</th>\n",
       "      <th>6Label</th>\n",
       "    </tr>\n",
       "  </thead>\n",
       "  <tbody>\n",
       "    <tr>\n",
       "      <th>1</th>\n",
       "      <td>2017-04-19</td>\n",
       "      <td>141.880005</td>\n",
       "      <td>142.000000</td>\n",
       "      <td>140.449997</td>\n",
       "      <td>140.679993</td>\n",
       "      <td>143.639999</td>\n",
       "    </tr>\n",
       "    <tr>\n",
       "      <th>2</th>\n",
       "      <td>2017-04-20</td>\n",
       "      <td>141.220001</td>\n",
       "      <td>142.919998</td>\n",
       "      <td>141.160004</td>\n",
       "      <td>142.440002</td>\n",
       "      <td>144.529999</td>\n",
       "    </tr>\n",
       "    <tr>\n",
       "      <th>3</th>\n",
       "      <td>2017-04-21</td>\n",
       "      <td>142.440002</td>\n",
       "      <td>142.679993</td>\n",
       "      <td>141.850006</td>\n",
       "      <td>142.270004</td>\n",
       "      <td>143.679993</td>\n",
       "    </tr>\n",
       "    <tr>\n",
       "      <th>4</th>\n",
       "      <td>2017-04-24</td>\n",
       "      <td>143.500000</td>\n",
       "      <td>143.949997</td>\n",
       "      <td>143.179993</td>\n",
       "      <td>143.639999</td>\n",
       "      <td>143.789993</td>\n",
       "    </tr>\n",
       "    <tr>\n",
       "      <th>5</th>\n",
       "      <td>2017-04-25</td>\n",
       "      <td>143.910004</td>\n",
       "      <td>144.899994</td>\n",
       "      <td>143.869995</td>\n",
       "      <td>144.529999</td>\n",
       "      <td>143.649994</td>\n",
       "    </tr>\n",
       "  </tbody>\n",
       "</table>\n",
       "</div>"
      ],
      "text/plain": [
       "        1Date       2Open       3High        4Low      5Close      6Label\n",
       "1  2017-04-19  141.880005  142.000000  140.449997  140.679993  143.639999\n",
       "2  2017-04-20  141.220001  142.919998  141.160004  142.440002  144.529999\n",
       "3  2017-04-21  142.440002  142.679993  141.850006  142.270004  143.679993\n",
       "4  2017-04-24  143.500000  143.949997  143.179993  143.639999  143.789993\n",
       "5  2017-04-25  143.910004  144.899994  143.869995  144.529999  143.649994"
      ]
     },
     "execution_count": 212,
     "metadata": {},
     "output_type": "execute_result"
    }
   ],
   "source": [
    "forecast_col = '5Close'\n",
    "stock.fillna(-99999, inplace=True)\n",
    "forecast_out = int(math.ceil(0.01*len(stock)))\n",
    "stock['6Label'] = stock[forecast_col].shift(-forecast_out)\n",
    "stock.dropna(inplace=True)\n",
    "stock.head()"
   ]
  },
  {
   "cell_type": "code",
   "execution_count": 213,
   "metadata": {
    "scrolled": true
   },
   "outputs": [],
   "source": [
    "X = stock[['2Open','3High', '4Low', '5Close']]\n",
    "Y = stock['6Label']\n",
    "X_lately = X[-forecast_out:]\n",
    "\n",
    "test_size = 0.20\n",
    "seed = 7\n",
    "\n",
    "features_train, features_test, labels_train, labels_test = model_selection.train_test_split(X, Y, test_size=test_size, random_state=seed)"
   ]
  },
  {
   "cell_type": "markdown",
   "metadata": {},
   "source": [
    "### Defining the classifier\n",
    "Now let's get to the final step of predicting stoc prices. Let'S define the classifier:"
   ]
  },
  {
   "cell_type": "code",
   "execution_count": 214,
   "metadata": {
    "scrolled": true
   },
   "outputs": [
    {
     "name": "stdout",
     "output_type": "stream",
     "text": [
      "Accuarcy: 0.853620276289\n"
     ]
    }
   ],
   "source": [
    "clf = linear_model.LinearRegression()\n",
    "clf.fit(features_train,labels_train)\n",
    "accuarcy = clf.score(features_test,labels_test)\n",
    "prediction = clf.predict(X_lately)\n",
    "print(\"Accuarcy: \" + str(accuarcy))"
   ]
  },
  {
   "cell_type": "code",
   "execution_count": 215,
   "metadata": {},
   "outputs": [
    {
     "name": "stdout",
     "output_type": "stream",
     "text": [
      "Here are the next three days stock prices:\n",
      "[ 173.71773801  174.18778137  175.09761291]\n"
     ]
    }
   ],
   "source": [
    "print(\"Here are the next three days stock prices:\")\n",
    "print(prediction)"
   ]
  }
 ],
 "metadata": {
  "kernelspec": {
   "display_name": "Python 2",
   "language": "python",
   "name": "python2"
  },
  "language_info": {
   "codemirror_mode": {
    "name": "ipython",
    "version": 2
   },
   "file_extension": ".py",
   "mimetype": "text/x-python",
   "name": "python",
   "nbconvert_exporter": "python",
   "pygments_lexer": "ipython2",
   "version": "2.7.14"
  }
 },
 "nbformat": 4,
 "nbformat_minor": 2
}
